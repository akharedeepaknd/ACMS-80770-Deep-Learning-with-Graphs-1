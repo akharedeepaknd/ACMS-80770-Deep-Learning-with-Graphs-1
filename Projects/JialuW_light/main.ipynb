{
 "cells": [
  {
   "cell_type": "markdown",
   "id": "4a40b58c",
   "metadata": {},
   "source": [
    "# Recommendation system: LightGCN model\n",
    "\n",
    "@Jialu Wang, University of Notre Dame \n",
    "\n",
    "\n",
    "Reference: \n",
    "\n",
    "1.Xiangnan He et al. LightGCN: Simplifying and Powering Graph Convolution network for recommendation."
   ]
  },
  {
   "cell_type": "code",
   "execution_count": null,
   "id": "4bdc0bd1",
   "metadata": {},
   "outputs": [],
   "source": [
    "import os\n",
    "from os.path import join\n",
    "import torch\n",
    "from torch.utils.data import Dataset, DataLoader\n",
    "import numpy as np\n",
    "from scipy.sparse import csr_matrix\n",
    "from tensorboardX import SummaryWriter\n",
    "import time"
   ]
  },
  {
   "cell_type": "code",
   "execution_count": null,
   "id": "5f007e00",
   "metadata": {},
   "outputs": [],
   "source": [
    "# data process\n",
    "from dataloader import Loader\n",
    "# model implementation\n",
    "from model import LightGCN, PairWiseModel\n",
    "# config settings\n",
    "import world\n",
    "# utility function\n",
    "import utils\n",
    "# training and testing functions\n",
    "import Procedure"
   ]
  },
  {
   "cell_type": "markdown",
   "id": "83828c00",
   "metadata": {},
   "source": [
    "### Load data"
   ]
  },
  {
   "cell_type": "code",
   "execution_count": null,
   "id": "9dc2cbd0",
   "metadata": {},
   "outputs": [],
   "source": [
    "seeData = Loader()\n",
    "print(\"No. of users:\", seeData.n_users, \"No. of items:\", seeData.m_item)"
   ]
  },
  {
   "cell_type": "code",
   "execution_count": null,
   "id": "4018dd1e",
   "metadata": {},
   "outputs": [],
   "source": [
    "graph = seeData.getSparseGraph()\n",
    "print(seeData.Graph)"
   ]
  },
  {
   "cell_type": "markdown",
   "id": "2d6d2bc7",
   "metadata": {},
   "source": [
    "## Create model"
   ]
  },
  {
   "cell_type": "code",
   "execution_count": null,
   "id": "e4ba0c3e",
   "metadata": {},
   "outputs": [],
   "source": [
    "rec_model = LightGCN(config=world.config, dataset=seeData)"
   ]
  },
  {
   "cell_type": "code",
   "execution_count": null,
   "id": "67195c17",
   "metadata": {},
   "outputs": [],
   "source": [
    "print(\"No. of users:\", rec_model.num_users, \", No. of items:\", rec_model.num_items)\n",
    "print(\"Embedding size:\", rec_model.latent_dim)"
   ]
  },
  {
   "cell_type": "code",
   "execution_count": null,
   "id": "bacddc03",
   "metadata": {},
   "outputs": [],
   "source": [
    "print(rec_model.embedding_user)\n",
    "print(rec_model.embedding_item)\n",
    "print(np.shape(rec_model.Graph))\n",
    "print(rec_model.Graph)"
   ]
  },
  {
   "cell_type": "code",
   "execution_count": null,
   "id": "a0478369",
   "metadata": {},
   "outputs": [],
   "source": [
    "rec_model.train()"
   ]
  },
  {
   "cell_type": "markdown",
   "id": "9278feba",
   "metadata": {},
   "source": [
    "## Train one epoch"
   ]
  },
  {
   "cell_type": "code",
   "execution_count": null,
   "id": "abdbebf0",
   "metadata": {},
   "outputs": [],
   "source": [
    "pair = PairWiseModel()\n",
    "\n",
    "BPRLoss_input = utils.BPRLoss(rec_model, world.config)"
   ]
  },
  {
   "cell_type": "code",
   "execution_count": null,
   "id": "1e5f0545",
   "metadata": {},
   "outputs": [],
   "source": [
    "w : SummaryWriter = SummaryWriter(join(world.BOARD_PATH, time.strftime(\"%m-%d-%Hh%Mm%Ss-\") + \"-\" + world.comment))\n",
    "    \n",
    "    "
   ]
  },
  {
   "cell_type": "code",
   "execution_count": null,
   "id": "dadfb779",
   "metadata": {},
   "outputs": [],
   "source": [
    "loss_avg = []\n",
    "test_rec = []\n",
    "test_recall = []\n",
    "test_ndcg = []"
   ]
  },
  {
   "cell_type": "code",
   "execution_count": null,
   "id": "75beb5fc",
   "metadata": {
    "scrolled": true
   },
   "outputs": [],
   "source": [
    "for epoch in range(300):\n",
    "    if (epoch)%10==0:\n",
    "        print(\"==========test==========\")\n",
    "        test_epoch = Procedure.Test(seeData, rec_model, epoch, w, world.config['multicore'])\n",
    "        print(test_epoch['recall'], test_epoch['ndcg'])\n",
    "        test_rec.append(test_epoch)\n",
    "        test_recall.append(test_epoch['recall'][0])\n",
    "        test_ndcg.append(test_epoch['ndcg'][0])\n",
    "        \n",
    "    output = Procedure.BPR_train_original(seeData, rec_model, BPRLoss_input, epoch, neg_k=1, w=w)\n",
    "    loss_avg.append(output)"
   ]
  },
  {
   "cell_type": "code",
   "execution_count": null,
   "id": "bf5212bd",
   "metadata": {},
   "outputs": [],
   "source": [
    "print(loss_avg)\n",
    "print(test_recall)\n",
    "print(test_ndcg)"
   ]
  },
  {
   "cell_type": "code",
   "execution_count": null,
   "id": "1ea5c795",
   "metadata": {},
   "outputs": [],
   "source": [
    "test_recall_list, test_ndcg_list = [], []\n",
    "for no, i in enumerate(test_recall):\n",
    "    if no>=10:\n",
    "        test_recall_list.append(i)\n",
    "    else:\n",
    "        test_recall_list.append(i[0])\n",
    "    \n",
    "for no, j in enumerate(test_ndcg):\n",
    "    if no>=10:\n",
    "        test_ndcg_list.append(j)\n",
    "    else:\n",
    "        test_ndcg_list.append(j[0])\n",
    "    \n",
    "print(test_ndcg_list)"
   ]
  },
  {
   "cell_type": "code",
   "execution_count": null,
   "id": "35c8c2a5",
   "metadata": {},
   "outputs": [],
   "source": [
    "import matplotlib.pyplot as plt\n",
    "\n",
    "plt.plot(range(5,300), loss_avg[5:])\n",
    "\n",
    "si=18\n",
    "plt.rc('axes', titlesize=si)\n",
    "plt.rc('axes', labelsize=si)\n",
    "plt.rc('xtick', labelsize=si)\n",
    "plt.rc('ytick', labelsize=si)\n",
    "plt.rc('legend', fontsize=14)\n",
    "\n",
    "plt.xlabel(\"Epoch\")\n",
    "plt.ylabel(\"Training Loss\")\n",
    "plt.title(\"Gowalla\")"
   ]
  },
  {
   "cell_type": "code",
   "execution_count": null,
   "id": "53a05283",
   "metadata": {},
   "outputs": [],
   "source": [
    "plt.plot(range(30), test_recall_list)\n",
    "\n",
    "si=18\n",
    "plt.rc('axes', titlesize=si)\n",
    "plt.rc('axes', labelsize=si)\n",
    "plt.rc('xtick', labelsize=si)\n",
    "plt.rc('ytick', labelsize=si)\n",
    "plt.rc('legend', fontsize=14)\n",
    "\n",
    "plt.xlabel(\"Epoch\")\n",
    "plt.ylabel(\"Recall\")\n",
    "plt.title(\"Gowalla\")"
   ]
  },
  {
   "cell_type": "code",
   "execution_count": null,
   "id": "8aeb5e48",
   "metadata": {},
   "outputs": [],
   "source": [
    "plt.plot(range(30), test_ndcg_list)\n",
    "\n",
    "si=18\n",
    "plt.rc('axes', titlesize=si)\n",
    "plt.rc('axes', labelsize=si)\n",
    "plt.rc('xtick', labelsize=si)\n",
    "plt.rc('ytick', labelsize=si)\n",
    "plt.rc('legend', fontsize=14)\n",
    "\n",
    "plt.xlabel(\"Epoch\")\n",
    "plt.ylabel(\"ndcg\")\n",
    "plt.title(\"Gowalla\")"
   ]
  },
  {
   "cell_type": "code",
   "execution_count": null,
   "id": "b3a9bb72",
   "metadata": {},
   "outputs": [],
   "source": [
    "import pickle\n",
    "\n",
    "# Its important to use binary mode\n",
    "loss100 = open('gcn300-loss', 'wb')\n",
    "\n",
    "# source, destination\n",
    "pickle.dump(loss_avg, loss100)                     \n",
    "loss100.close()\n",
    "\n",
    "# Its important to use binary mode\n",
    "loss100_recall = open('gcn300-recall', 'wb')\n",
    "\n",
    "# source, destination\n",
    "pickle.dump(test_recall_list, loss100_recall)                     \n",
    "loss100_recall.close()\n",
    "\n",
    "# Its important to use binary mode\n",
    "loss100_ndcg = open('gcn300-ndcg', 'wb')\n",
    "\n",
    "# source, destination\n",
    "pickle.dump(test_ndcg_list, loss100_ndcg)                     \n",
    "loss100_ndcg.close()"
   ]
  },
  {
   "cell_type": "code",
   "execution_count": null,
   "id": "669aab11",
   "metadata": {},
   "outputs": [],
   "source": [
    "file = open('gcn300-loss', 'rb')\n",
    "\n",
    "# dump information to that file\n",
    "data_loss = pickle.load(file)\n",
    "\n",
    "# close the file\n",
    "file.close()\n",
    "\n",
    "file2 = open('gcn300-recall', 'rb')\n",
    "\n",
    "# dump information to that file\n",
    "data_recall = pickle.load(file2)\n",
    "\n",
    "# close the file\n",
    "file2.close()\n",
    "\n",
    "file3 = open('gcn300-ndcg', 'rb')\n",
    "\n",
    "# dump information to that file\n",
    "data_ndcg = pickle.load(file3)\n",
    "\n",
    "# close the file\n",
    "file3.close()"
   ]
  },
  {
   "cell_type": "code",
   "execution_count": null,
   "id": "8288f052",
   "metadata": {},
   "outputs": [],
   "source": [
    "print(data_loss)\n",
    "print(data_recall)\n",
    "print(data_ndcg)"
   ]
  },
  {
   "cell_type": "code",
   "execution_count": null,
   "id": "8a2be74e",
   "metadata": {},
   "outputs": [],
   "source": []
  }
 ],
 "metadata": {
  "kernelspec": {
   "display_name": "Python 3 (ipykernel)",
   "language": "python",
   "name": "python3"
  },
  "language_info": {
   "codemirror_mode": {
    "name": "ipython",
    "version": 3
   },
   "file_extension": ".py",
   "mimetype": "text/x-python",
   "name": "python",
   "nbconvert_exporter": "python",
   "pygments_lexer": "ipython3",
   "version": "3.7.11"
  }
 },
 "nbformat": 4,
 "nbformat_minor": 5
}
